{
  "cells": [
    {
      "cell_type": "code",
      "execution_count": 5,
      "metadata": {
        "collapsed": true,
        "id": "xSkLBVKxxE4f"
      },
      "outputs": [
        {
          "name": "stdout",
          "output_type": "stream",
          "text": [
            "WARNING:tensorflow:From c:\\Users\\ASUS\\AppData\\Local\\Programs\\Python\\Python310\\lib\\site-packages\\keras\\src\\losses.py:2976: The name tf.losses.sparse_softmax_cross_entropy is deprecated. Please use tf.compat.v1.losses.sparse_softmax_cross_entropy instead.\n",
            "\n"
          ]
        }
      ],
      "source": [
        "# Memuat pustaka\n",
        "import pandas as pd\n",
        "from sklearn.model_selection import train_test_split\n",
        "from sklearn.preprocessing import LabelEncoder\n",
        "import tensorflow as tf\n",
        "from tensorflow.keras.models import Sequential\n",
        "from tensorflow.keras.layers import Dense, Dropout\n",
        "from sklearn.metrics import classification_report\n",
        "import requests"
      ]
    },
    {
      "cell_type": "code",
      "execution_count": 6,
      "metadata": {
        "colab": {
          "base_uri": "https://localhost:8080/",
          "height": 255
        },
        "id": "EwrL-_ZOxzjQ",
        "outputId": "83c58fd3-4d60-42e3-b7b6-d593a5932e9a"
      },
      "outputs": [
        {
          "data": {
            "text/html": [
              "<div>\n",
              "<style scoped>\n",
              "    .dataframe tbody tr th:only-of-type {\n",
              "        vertical-align: middle;\n",
              "    }\n",
              "\n",
              "    .dataframe tbody tr th {\n",
              "        vertical-align: top;\n",
              "    }\n",
              "\n",
              "    .dataframe thead th {\n",
              "        text-align: right;\n",
              "    }\n",
              "</style>\n",
              "<table border=\"1\" class=\"dataframe\">\n",
              "  <thead>\n",
              "    <tr style=\"text-align: right;\">\n",
              "      <th></th>\n",
              "      <th>age</th>\n",
              "      <th>feeling.nervous</th>\n",
              "      <th>panic</th>\n",
              "      <th>breathing.rapidly</th>\n",
              "      <th>sweating</th>\n",
              "      <th>trouble.in.concentration</th>\n",
              "      <th>trouble.sleeping</th>\n",
              "      <th>trouble.with.work</th>\n",
              "      <th>hopelessness</th>\n",
              "      <th>anger</th>\n",
              "      <th>...</th>\n",
              "      <th>nightmares</th>\n",
              "      <th>avoids.people.or.activities</th>\n",
              "      <th>feeling.negative</th>\n",
              "      <th>trouble.concentrating</th>\n",
              "      <th>blamming.yourself</th>\n",
              "      <th>hallucinations</th>\n",
              "      <th>repetitive.behaviour</th>\n",
              "      <th>seasonally</th>\n",
              "      <th>increased.energy</th>\n",
              "      <th>Disorder</th>\n",
              "    </tr>\n",
              "  </thead>\n",
              "  <tbody>\n",
              "    <tr>\n",
              "      <th>0</th>\n",
              "      <td>23</td>\n",
              "      <td>1</td>\n",
              "      <td>0</td>\n",
              "      <td>1</td>\n",
              "      <td>0</td>\n",
              "      <td>0</td>\n",
              "      <td>1</td>\n",
              "      <td>0</td>\n",
              "      <td>1</td>\n",
              "      <td>0</td>\n",
              "      <td>...</td>\n",
              "      <td>0</td>\n",
              "      <td>0</td>\n",
              "      <td>1</td>\n",
              "      <td>0</td>\n",
              "      <td>0</td>\n",
              "      <td>0</td>\n",
              "      <td>0</td>\n",
              "      <td>0</td>\n",
              "      <td>0</td>\n",
              "      <td>MDD</td>\n",
              "    </tr>\n",
              "    <tr>\n",
              "      <th>1</th>\n",
              "      <td>14</td>\n",
              "      <td>1</td>\n",
              "      <td>0</td>\n",
              "      <td>1</td>\n",
              "      <td>0</td>\n",
              "      <td>0</td>\n",
              "      <td>1</td>\n",
              "      <td>0</td>\n",
              "      <td>0</td>\n",
              "      <td>1</td>\n",
              "      <td>...</td>\n",
              "      <td>1</td>\n",
              "      <td>1</td>\n",
              "      <td>0</td>\n",
              "      <td>0</td>\n",
              "      <td>0</td>\n",
              "      <td>0</td>\n",
              "      <td>1</td>\n",
              "      <td>0</td>\n",
              "      <td>0</td>\n",
              "      <td>ASD</td>\n",
              "    </tr>\n",
              "    <tr>\n",
              "      <th>2</th>\n",
              "      <td>25</td>\n",
              "      <td>0</td>\n",
              "      <td>0</td>\n",
              "      <td>0</td>\n",
              "      <td>0</td>\n",
              "      <td>0</td>\n",
              "      <td>0</td>\n",
              "      <td>0</td>\n",
              "      <td>0</td>\n",
              "      <td>0</td>\n",
              "      <td>...</td>\n",
              "      <td>0</td>\n",
              "      <td>0</td>\n",
              "      <td>0</td>\n",
              "      <td>0</td>\n",
              "      <td>0</td>\n",
              "      <td>0</td>\n",
              "      <td>0</td>\n",
              "      <td>0</td>\n",
              "      <td>0</td>\n",
              "      <td>Loneliness</td>\n",
              "    </tr>\n",
              "    <tr>\n",
              "      <th>3</th>\n",
              "      <td>29</td>\n",
              "      <td>1</td>\n",
              "      <td>0</td>\n",
              "      <td>0</td>\n",
              "      <td>0</td>\n",
              "      <td>1</td>\n",
              "      <td>1</td>\n",
              "      <td>0</td>\n",
              "      <td>0</td>\n",
              "      <td>0</td>\n",
              "      <td>...</td>\n",
              "      <td>0</td>\n",
              "      <td>0</td>\n",
              "      <td>0</td>\n",
              "      <td>1</td>\n",
              "      <td>1</td>\n",
              "      <td>0</td>\n",
              "      <td>0</td>\n",
              "      <td>0</td>\n",
              "      <td>1</td>\n",
              "      <td>bipolar</td>\n",
              "    </tr>\n",
              "    <tr>\n",
              "      <th>4</th>\n",
              "      <td>32</td>\n",
              "      <td>1</td>\n",
              "      <td>1</td>\n",
              "      <td>1</td>\n",
              "      <td>1</td>\n",
              "      <td>1</td>\n",
              "      <td>1</td>\n",
              "      <td>1</td>\n",
              "      <td>0</td>\n",
              "      <td>0</td>\n",
              "      <td>...</td>\n",
              "      <td>0</td>\n",
              "      <td>1</td>\n",
              "      <td>0</td>\n",
              "      <td>0</td>\n",
              "      <td>0</td>\n",
              "      <td>0</td>\n",
              "      <td>0</td>\n",
              "      <td>0</td>\n",
              "      <td>0</td>\n",
              "      <td>anxiety</td>\n",
              "    </tr>\n",
              "  </tbody>\n",
              "</table>\n",
              "<p>5 rows × 29 columns</p>\n",
              "</div>"
            ],
            "text/plain": [
              "   age  feeling.nervous  panic  breathing.rapidly  sweating  \\\n",
              "0   23                1      0                  1         0   \n",
              "1   14                1      0                  1         0   \n",
              "2   25                0      0                  0         0   \n",
              "3   29                1      0                  0         0   \n",
              "4   32                1      1                  1         1   \n",
              "\n",
              "   trouble.in.concentration  trouble.sleeping  trouble.with.work  \\\n",
              "0                         0                 1                  0   \n",
              "1                         0                 1                  0   \n",
              "2                         0                 0                  0   \n",
              "3                         1                 1                  0   \n",
              "4                         1                 1                  1   \n",
              "\n",
              "   hopelessness  anger  ...  nightmares  avoids.people.or.activities  \\\n",
              "0             1      0  ...           0                            0   \n",
              "1             0      1  ...           1                            1   \n",
              "2             0      0  ...           0                            0   \n",
              "3             0      0  ...           0                            0   \n",
              "4             0      0  ...           0                            1   \n",
              "\n",
              "   feeling.negative  trouble.concentrating  blamming.yourself  hallucinations  \\\n",
              "0                 1                      0                  0               0   \n",
              "1                 0                      0                  0               0   \n",
              "2                 0                      0                  0               0   \n",
              "3                 0                      1                  1               0   \n",
              "4                 0                      0                  0               0   \n",
              "\n",
              "   repetitive.behaviour  seasonally  increased.energy    Disorder  \n",
              "0                     0           0                 0         MDD  \n",
              "1                     1           0                 0         ASD  \n",
              "2                     0           0                 0  Loneliness  \n",
              "3                     0           0                 1     bipolar  \n",
              "4                     0           0                 0     anxiety  \n",
              "\n",
              "[5 rows x 29 columns]"
            ]
          },
          "execution_count": 6,
          "metadata": {},
          "output_type": "execute_result"
        }
      ],
      "source": [
        "# URL ke file CSV di GitHub\n",
        "url = 'https://raw.githubusercontent.com/baniadamtampubolon/dataset/main/cleaned_mental_data.csv'\n",
        "\n",
        "\n",
        "# Cara 2: Mengunduh data dengan requests dan memperbaiki secara manual\n",
        "response = requests.get(url)\n",
        "csv_data = response.content.decode('utf-8')\n",
        "\n",
        "# Menyimpan ke file sementara\n",
        "with open('cleaned_mental_data.csv', 'w') as f:\n",
        "    f.write(csv_data)\n",
        "\n",
        "# Membaca file CSV dengan pandas\n",
        "mental_data = pd.read_csv('cleaned_mental_data.csv', on_bad_lines='skip')\n",
        "data = mental_data\n",
        "mental_data.head()"
      ]
    },
    {
      "cell_type": "code",
      "execution_count": 7,
      "metadata": {
        "id": "ZK8LnSipx9U5"
      },
      "outputs": [],
      "source": [
        "# Memisahkan fitur dan target\n",
        "X = data.drop(columns=['Disorder'])\n",
        "y = data['Disorder']"
      ]
    },
    {
      "cell_type": "code",
      "execution_count": 8,
      "metadata": {
        "id": "X_qITg9oyAzj"
      },
      "outputs": [],
      "source": [
        "# Membagi data menjadi data latih dan data uji\n",
        "X_train, X_test, y_train, y_test = train_test_split(X, y, test_size=0.2, random_state=42)"
      ]
    },
    {
      "cell_type": "code",
      "execution_count": 9,
      "metadata": {
        "id": "yEQZOn_OyD5a"
      },
      "outputs": [],
      "source": [
        "# Mengkodekan label\n",
        "label_encoder = LabelEncoder()\n",
        "y_train_encoded = label_encoder.fit_transform(y_train)\n",
        "y_test_encoded = label_encoder.transform(y_test)"
      ]
    },
    {
      "cell_type": "code",
      "execution_count": 10,
      "metadata": {
        "id": "Bjvv689GyG39"
      },
      "outputs": [
        {
          "name": "stdout",
          "output_type": "stream",
          "text": [
            "WARNING:tensorflow:From c:\\Users\\ASUS\\AppData\\Local\\Programs\\Python\\Python310\\lib\\site-packages\\keras\\src\\backend.py:873: The name tf.get_default_graph is deprecated. Please use tf.compat.v1.get_default_graph instead.\n",
            "\n"
          ]
        }
      ],
      "source": [
        "# Membuat model Sequential\n",
        "model = Sequential()"
      ]
    },
    {
      "cell_type": "code",
      "execution_count": 11,
      "metadata": {
        "id": "ALLudzPhyIJV"
      },
      "outputs": [],
      "source": [
        "model = Sequential()\n",
        "# Menambahkan layer\n",
        "model.add(Dense(64, activation='relu', input_shape=(X_train.shape[1],)))\n",
        "model.add(Dropout(0.5))\n",
        "model.add(Dense(32, activation='relu'))\n",
        "model.add(Dropout(0.5))\n",
        "model.add(Dense(len(label_encoder.classes_), activation='softmax'))"
      ]
    },
    {
      "cell_type": "code",
      "execution_count": 12,
      "metadata": {
        "id": "LAggDksgyIF0"
      },
      "outputs": [
        {
          "name": "stdout",
          "output_type": "stream",
          "text": [
            "WARNING:tensorflow:From c:\\Users\\ASUS\\AppData\\Local\\Programs\\Python\\Python310\\lib\\site-packages\\keras\\src\\optimizers\\__init__.py:309: The name tf.train.Optimizer is deprecated. Please use tf.compat.v1.train.Optimizer instead.\n",
            "\n"
          ]
        }
      ],
      "source": [
        "# Kompilasi model\n",
        "model.compile(optimizer='adam', loss='sparse_categorical_crossentropy', metrics=['accuracy'])"
      ]
    },
    {
      "cell_type": "code",
      "execution_count": 13,
      "metadata": {
        "id": "0XpyhvgJyID9"
      },
      "outputs": [
        {
          "name": "stdout",
          "output_type": "stream",
          "text": [
            "WARNING:tensorflow:From c:\\Users\\ASUS\\AppData\\Local\\Programs\\Python\\Python310\\lib\\site-packages\\keras\\src\\utils\\tf_utils.py:492: The name tf.ragged.RaggedTensorValue is deprecated. Please use tf.compat.v1.ragged.RaggedTensorValue instead.\n",
            "\n",
            "WARNING:tensorflow:From c:\\Users\\ASUS\\AppData\\Local\\Programs\\Python\\Python310\\lib\\site-packages\\keras\\src\\engine\\base_layer_utils.py:384: The name tf.executing_eagerly_outside_functions is deprecated. Please use tf.compat.v1.executing_eagerly_outside_functions instead.\n",
            "\n"
          ]
        }
      ],
      "source": [
        "# Melatih model\n",
        "history = model.fit(X_train, y_train_encoded, epochs=50, batch_size=32, validation_split=0.2, verbose=0)"
      ]
    },
    {
      "cell_type": "code",
      "execution_count": 14,
      "metadata": {
        "colab": {
          "base_uri": "https://localhost:8080/"
        },
        "id": "5liCJUVDyH7t",
        "outputId": "0a2a6ce4-1348-43fa-dbd0-920a2414ab7e"
      },
      "outputs": [
        {
          "name": "stdout",
          "output_type": "stream",
          "text": [
            "Test Accuracy: 0.9375\n"
          ]
        }
      ],
      "source": [
        "# Mengevaluasi model pada data uji\n",
        "loss, accuracy = model.evaluate(X_test, y_test_encoded, verbose=0)\n",
        "print(f\"Test Accuracy: {accuracy}\")"
      ]
    },
    {
      "cell_type": "code",
      "execution_count": 15,
      "metadata": {
        "colab": {
          "base_uri": "https://localhost:8080/"
        },
        "id": "nrWJuT6VyHtG",
        "outputId": "40f14511-223e-4c60-f320-9fff39636967"
      },
      "outputs": [
        {
          "name": "stdout",
          "output_type": "stream",
          "text": [
            "4/4 [==============================] - 0s 2ms/step\n"
          ]
        }
      ],
      "source": [
        "# Membuat prediksi\n",
        "y_pred_encoded = model.predict(X_test).argmax(axis=1)"
      ]
    },
    {
      "cell_type": "code",
      "execution_count": 14,
      "metadata": {
        "colab": {
          "base_uri": "https://localhost:8080/"
        },
        "id": "tmnldo0EyWDM",
        "outputId": "63c94306-131d-450e-dce1-638652ecb2d2"
      },
      "outputs": [
        {
          "name": "stderr",
          "output_type": "stream",
          "text": [
            "c:\\Users\\ASUS\\AppData\\Local\\Programs\\Python\\Python310\\lib\\site-packages\\keras\\src\\engine\\training.py:3103: UserWarning: You are saving your model as an HDF5 file via `model.save()`. This file format is considered legacy. We recommend using instead the native Keras format, e.g. `model.save('my_model.keras')`.\n",
            "  saving_api.save_model(\n"
          ]
        }
      ],
      "source": [
        "# Menyimpan model ke file\n",
        "model.save('mental_health_model.h5')\n"
      ]
    },
    {
      "cell_type": "code",
      "execution_count": 16,
      "metadata": {
        "id": "lf0a3MP8yWA9"
      },
      "outputs": [],
      "source": [
        "# Memuat model yang telah disimpan\n",
        "from tensorflow.keras.models import load_model\n",
        "\n",
        "loaded_model = load_model('mental_health_model.h5')\n"
      ]
    },
    {
      "cell_type": "code",
      "execution_count": 19,
      "metadata": {
        "colab": {
          "base_uri": "https://localhost:8080/"
        },
        "id": "GLx6H7AhyV--",
        "outputId": "b4a90423-9214-4f1e-90aa-37320e24e85f"
      },
      "outputs": [
        {
          "name": "stdout",
          "output_type": "stream",
          "text": [
            "[23, 0, 1, 1, 0, 1, 0, 0, 0, 1, 1, 1, 1, 0, 1, 0, 1, 0, 1, 0, 0, 1, 0, 0, 1, 0, 0, 0]\n",
            "\n",
            "\n",
            "1/1 [==============================] - 0s 23ms/step\n",
            "1/1 [==============================] - 0s 17ms/step\n",
            "\n",
            "\n",
            "Predicted Disorder: [[0.01876598 0.03049158 0.00772606 0.25852218 0.01257643 0.2763688\n",
            "  0.21235429 0.02551441 0.03732416 0.01700286 0.07978784 0.02356536]]\n"
          ]
        }
      ],
      "source": [
        "# Contoh input pengguna\n",
        "import random\n",
        "import numpy as np\n",
        "\n",
        "# input_data = [29,0,0,0,0,0,1,1,0,0,0,0,0,1,1,0,0,0,1,0,0,0,1,0,0,0,0,0]  # Ganti dengan input Anda\n",
        "\n",
        "# Menghasilkan nilai acak antara 0 atau 1 sebanyak 27 kali\n",
        "\n",
        "random_values = [random.randint(0, 1) for _ in range(27)] # random value untuk gejala\n",
        "input_data = [23] + random_values # input untuk umur\n",
        "print(input_data)\n",
        "print(\"\\n\")\n",
        "\n",
        "# Konversi input_data menjadi array numpy 2D dan ubah bentuknya agar sesuai dengan kebutuhan model\n",
        "input_data = np.array([input_data])  # Mengonversi menjadi array numpy 2D dengan satu baris\n",
        "\n",
        "# Lakukan prediksi\n",
        "prediction = model.predict(input_data)\n",
        "\n",
        "# Membuat prediksi\n",
        "prediction = model.predict(input_data)\n",
        "print(\"\\n\")\n",
        "print(f\"Predicted Disorder: {prediction}\")"
      ]
    },
    {
      "cell_type": "code",
      "execution_count": 21,
      "metadata": {
        "colab": {
          "base_uri": "https://localhost:8080/",
          "height": 902
        },
        "id": "n74AILZryV8m",
        "outputId": "7015412a-aba9-4c74-920e-a5978319b47f"
      },
      "outputs": [
        {
          "name": "stdout",
          "output_type": "stream",
          "text": [
            "Prediction: PDD\n",
            "\n",
            "\n",
            "ADHD: 1.88%\n",
            "ASD: 3.05%\n",
            "Loneliness: 0.77%\n",
            "MDD: 25.85%\n",
            "OCD: 1.26%\n",
            "PDD: 27.64%\n",
            "PTSD: 21.24%\n",
            "Anxiety: 2.55%\n",
            "Bipolar: 3.73%\n",
            "Eating Disorder: 1.70%\n",
            "Psychotic Depression: 7.98%\n",
            "Sleeping Disorder: 2.36%\n",
            "\n",
            "\n"
          ]
        },
        {
          "data": {
            "image/png": "[encoded data removed]",
            "text/plain": [
              "<Figure size 720x432 with 1 Axes>"
            ]
          },
          "metadata": {
            "needs_background": "light"
          },
          "output_type": "display_data"
        }
      ],
      "source": [
        "# Labels\n",
        "labels = {\n",
        "    0: \"ADHD\",\n",
        "    1: \"ASD\",\n",
        "    2: \"Loneliness\",\n",
        "    3: \"MDD\",\n",
        "    4: \"OCD\",\n",
        "    5: \"PDD\",\n",
        "    6: \"PTSD\",\n",
        "    7: \"Anxiety\",\n",
        "    8: \"Bipolar\",\n",
        "    9: \"Eating Disorder\",\n",
        "    10: \"Psychotic Depression\",\n",
        "    11: \"Sleeping Disorder\",\n",
        "    12: \"Inconclusive\"\n",
        "}\n",
        "\n",
        "# Mengambil label dari prediksi\n",
        "predicted_label = labels[np.argmax(prediction)]\n",
        "\n",
        "print(f\"Prediction: {predicted_label}\")\n",
        "print(\"\\n\")\n",
        "\n",
        "# Mendapatkan jumlah prediksi untuk setiap penyakit\n",
        "predicted_percentages = (prediction[0] / prediction[0].sum()) * 100\n",
        "\n",
        "# Menampilkan persentase prediksi untuk setiap penyakit\n",
        "for i, percentage in enumerate(predicted_percentages):\n",
        "    disorder_name = labels[i]\n",
        "    print(f\"{disorder_name}: {percentage:.2f}%\")\n",
        "\n",
        "print(\"\\n\")\n",
        "# PLOT CHART\n",
        "\n",
        "import matplotlib.pyplot as plt\n",
        "\n",
        "# Membuat grafik batang menggunakan Matplotlib\n",
        "disorder_names = [labels[i] for i in range(len(predicted_percentages))]\n",
        "percentages = [predicted_percentages[i] for i in range(len(predicted_percentages))]\n",
        "\n",
        "plt.figure(figsize=(10, 6))\n",
        "plt.bar(disorder_names, percentages, color='skyblue')\n",
        "plt.xlabel('Disorders')\n",
        "plt.ylabel('Prediction Percentage (%)')\n",
        "plt.title('Prediction Percentage for Each Disorder')\n",
        "plt.xticks(rotation=45, ha='right')\n",
        "plt.ylim(0, 100)\n",
        "\n",
        "# Menambahkan persentase di atas setiap batang\n",
        "for i, percentage in enumerate(percentages):\n",
        "    plt.text(i, percentage + 1, f'{percentage:.2f}%', ha='center')\n",
        "\n",
        "plt.tight_layout()\n",
        "plt.show()\n"
      ]
    },
    {
      "cell_type": "code",
      "execution_count": null,
      "metadata": {
        "id": "Ae7de4GJkUaW"
      },
      "outputs": [],
      "source": []
    },
    {
      "cell_type": "code",
      "execution_count": null,
      "metadata": {
        "id": "580MZYVwLMuM"
      },
      "outputs": [],
      "source": []
    }
  ],
  "metadata": {
    "colab": {
      "provenance": []
    },
    "kernelspec": {
      "display_name": "Python 3",
      "name": "python3"
    },
    "language_info": {
      "codemirror_mode": {
        "name": "ipython",
        "version": 3
      },
      "file_extension": ".py",
      "mimetype": "text/x-python",
      "name": "python",
      "nbconvert_exporter": "python",
      "pygments_lexer": "ipython3",
      "version": "3.10.2"
    }
  },
  "nbformat": 4,
  "nbformat_minor": 0
}
